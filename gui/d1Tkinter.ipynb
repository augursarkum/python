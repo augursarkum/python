{
 "cells": [
  {
   "cell_type": "markdown",
   "id": "93d92baf-6428-4a35-bf08-3e92dde8b1d8",
   "metadata": {},
   "source": [
    "1.1 Tkinter - Getting started"
   ]
  },
  {
   "cell_type": "code",
   "execution_count": 7,
   "id": "259f856d-5b5f-4932-ad76-0c5eaab4cbaa",
   "metadata": {},
   "outputs": [],
   "source": [
    "import tkinter as tk\n",
    "root = tk.Tk()\n",
    "root.title(\"My App\")\n",
    "root.geometry(\"300x300\")\n",
    "root.mainloop()"
   ]
  },
  {
   "cell_type": "markdown",
   "id": "ebecf022-e877-4630-a16b-fa5a89903682",
   "metadata": {},
   "source": [
    "1.2 Tkinter insert Image "
   ]
  },
  {
   "cell_type": "code",
   "execution_count": 9,
   "id": "564a4d7c-4546-4994-87dd-fbd5bdb90b1f",
   "metadata": {},
   "outputs": [],
   "source": [
    "from tkinter import *\n",
    "root = Tk()\n",
    "root.geometry(\"500x500\")\n",
    "img = PhotoImage(file=\"bg1.png\")\n",
    "varLabel=Label(image=img)\n",
    "varLabel.pack()\n",
    "root.mainloop()"
   ]
  },
  {
   "cell_type": "markdown",
   "id": "730aab53-8020-4d72-8c8e-4852f60b7145",
   "metadata": {},
   "source": [
    "1.3 Tkinter - Components - Label"
   ]
  },
  {
   "cell_type": "code",
   "execution_count": 24,
   "id": "b725d452-95f8-47ac-a4f0-00c121ef24b4",
   "metadata": {},
   "outputs": [],
   "source": [
    "import tkinter as tk\n",
    "\n",
    "# Create the main window\n",
    "root = tk.Tk()\n",
    "root.geometry(\"400x250\")  # Set window size\n",
    "root.title(\"Welcome to My App\")  # Set window title\n",
    "\n",
    "# Create a StringVar to associate with the label\n",
    "text_var = tk.StringVar()\n",
    "text_var.set(\"Hello, World!\")\n",
    "\n",
    "# Create the label widget with all options\n",
    "label = tk.Label(root, \n",
    "                 textvariable=text_var, \n",
    "                 anchor=tk.CENTER,       \n",
    "                 bg=\"lightblue\",      \n",
    "                 height=3,              \n",
    "                 width=30,              \n",
    "                 bd=3,                  \n",
    "                 font=(\"Arial\", 16, \"bold\"), \n",
    "                 cursor=\"hand2\",   \n",
    "                 fg=\"red\",             \n",
    "                 padx=15,               \n",
    "                 pady=15,                \n",
    "                 justify=tk.CENTER,    \n",
    "                 relief=tk.RAISED,     \n",
    "                 underline=0,           \n",
    "                 wraplength=250         \n",
    "                )\n",
    "\n",
    "# Pack the label into the window\n",
    "label.pack(pady=20)  # Add some padding to the top\n",
    "\n",
    "\n",
    "# Run the main event loop\n",
    "root.mainloop()\n"
   ]
  },
  {
   "cell_type": "markdown",
   "id": "63687fb5-9cc1-4684-896f-f7e4890709b2",
   "metadata": {},
   "source": [
    "1.4 Tkinter - Components - Button"
   ]
  },
  {
   "cell_type": "code",
   "execution_count": 13,
   "id": "5e1bb572-828e-4baa-8746-752f6f02e5ff",
   "metadata": {},
   "outputs": [
    {
     "name": "stdout",
     "output_type": "stream",
     "text": [
      "Hello, welcome to the app!\n",
      "Hello, welcome to the app!\n"
     ]
    }
   ],
   "source": [
    "import tkinter as tk\n",
    "\n",
    "def greet():\n",
    "    print(\"Hello, welcome to the app!\")\n",
    "\n",
    "root = tk.Tk()\n",
    "button = tk.Button(root, text=\"Greet\", command=greet)\n",
    "button.pack()\n",
    "root.mainloop()"
   ]
  },
  {
   "cell_type": "code",
   "execution_count": null,
   "id": "1c844bae-3072-4398-8bef-3484b004523f",
   "metadata": {},
   "outputs": [],
   "source": [
    "1.5 Tkinter - Message Box"
   ]
  },
  {
   "cell_type": "code",
   "execution_count": 18,
   "id": "7b428d0b-0dca-4d94-ad84-acd2ecebacbb",
   "metadata": {},
   "outputs": [],
   "source": [
    "import tkinter as tk\n",
    "from tkinter import messagebox\n",
    "\n",
    "def greet():\n",
    "    name = entry_name.get()\n",
    "    messagebox.showinfo(\"Greeting\", f\"Hello, {name}!\")\n",
    "\n",
    "root = tk.Tk()\n",
    "root.title(\"Greeting App\")\n",
    "\n",
    "tk.Label(root, text=\"Enter your name:\").pack(pady=5)\n",
    "entry_name = tk.Entry(root)\n",
    "entry_name.pack(pady=15)\n",
    "\n",
    "tk.Button(root, text=\"Greet Me\", command=greet).pack(pady=10)\n",
    "\n",
    "root.mainloop()\n"
   ]
  },
  {
   "cell_type": "markdown",
   "id": "00416ae1-3861-4983-b6bd-919c2d4c89c0",
   "metadata": {},
   "source": [
    "1.6 Tkinter - Components - Form"
   ]
  },
  {
   "cell_type": "code",
   "execution_count": 20,
   "id": "e7d8ac75-755f-418f-b6c5-0807690c0524",
   "metadata": {},
   "outputs": [
    {
     "name": "stdout",
     "output_type": "stream",
     "text": [
      "The name is : GURU\n",
      "The password is : N0HKJ\n"
     ]
    }
   ],
   "source": [
    "# Program to make a simple \n",
    "# login screen  \n",
    "\n",
    "\n",
    "import tkinter as tk\n",
    " \n",
    "root=tk.Tk()\n",
    "\n",
    "# setting the windows size\n",
    "root.geometry(\"600x400\")\n",
    " \n",
    "# declaring string variable\n",
    "# for storing name and password\n",
    "name_var=tk.StringVar()\n",
    "passw_var=tk.StringVar()\n",
    "\n",
    " \n",
    "# defining a function that will\n",
    "# get the name and password and \n",
    "# print them on the screen\n",
    "def submit():\n",
    "\n",
    "    name=name_var.get()\n",
    "    password=passw_var.get()\n",
    "    \n",
    "    print(\"The name is : \" + name)\n",
    "    print(\"The password is : \" + password)\n",
    "    \n",
    "    name_var.set(\"\")\n",
    "    passw_var.set(\"\")\n",
    "    \n",
    "    \n",
    "# creating a label for \n",
    "# name using widget Label\n",
    "name_label = tk.Label(root, text = 'Username', font=('calibre',10, 'bold'))\n",
    " \n",
    "# creating a entry for input\n",
    "# name using widget Entry\n",
    "name_entry = tk.Entry(root,textvariable = name_var, font=('calibre',10,'normal'))\n",
    " \n",
    "# creating a label for password\n",
    "passw_label = tk.Label(root, text = 'Password', font = ('calibre',10,'bold'))\n",
    " \n",
    "# creating a entry for password\n",
    "passw_entry=tk.Entry(root, textvariable = passw_var, font = ('calibre',10,'normal'), show = '*')\n",
    " \n",
    "# creating a button using the widget \n",
    "# Button that will call the submit function \n",
    "sub_btn=tk.Button(root,text = 'Submit', command = submit)\n",
    " \n",
    "# placing the label and entry in\n",
    "# the required position using grid\n",
    "# method\n",
    "name_label.grid(row=0,column=0)\n",
    "name_entry.grid(row=0,column=1)\n",
    "passw_label.grid(row=1,column=0)\n",
    "passw_entry.grid(row=1,column=1)\n",
    "sub_btn.grid(row=2,column=1)\n",
    " \n",
    "# performing an infinite loop \n",
    "# for the window to display\n",
    "root.mainloop()\n"
   ]
  },
  {
   "cell_type": "markdown",
   "id": "da4dc412-24fd-40dc-a7bc-6c2ee5f7a053",
   "metadata": {},
   "source": [
    "2.1 Python - Thread - Simple"
   ]
  },
  {
   "cell_type": "code",
   "execution_count": 46,
   "id": "b98956fc-1c54-471f-aefc-816eb1e818d4",
   "metadata": {},
   "outputs": [],
   "source": [
    "import tkinter as tk\n",
    "import threading\n",
    "import time\n",
    "\n",
    "def download_file():\n",
    "    time.sleep(5)  # Simulate download delay\n",
    "    status_label.config(text=\"Download Complete!\")\n",
    "\n",
    "def start_download():\n",
    "    status_label.config(text=\"Downloading...\")\n",
    "    t = threading.Thread(target=download_file)\n",
    "    t.start()\n",
    "\n",
    "root = tk.Tk()\n",
    "tk.Button(root, text=\"Download\", command=start_download).pack()\n",
    "status_label = tk.Label(root, text=\"\")\n",
    "status_label.pack()\n",
    "root.mainloop()\n"
   ]
  },
  {
   "cell_type": "markdown",
   "id": "8a7ffd26-db25-4416-8730-5daaad7f4319",
   "metadata": {},
   "source": [
    "2.2 Python - Thread - Parallel"
   ]
  },
  {
   "cell_type": "code",
   "execution_count": 1,
   "id": "4714cdd2-4a41-4b1b-9c22-8c6eb056fb16",
   "metadata": {},
   "outputs": [],
   "source": [
    "import tkinter as tk\n",
    "import threading\n",
    "import time\n",
    "\n",
    "def update_clock():\n",
    "    while True:\n",
    "        current_time = time.strftime(\"%H:%M:%S\")\n",
    "        clock_label.config(text=current_time)\n",
    "        time.sleep(1)\n",
    "\n",
    "root = tk.Tk()\n",
    "clock_label = tk.Label(root, font=('Arial', 30))\n",
    "clock_label.pack()\n",
    "\n",
    "t = threading.Thread(target=update_clock, daemon=True)\n",
    "t.start()\n",
    "\n",
    "root.mainloop()\n"
   ]
  },
  {
   "cell_type": "markdown",
   "id": "e371e655-0eb2-4527-9248-2d812d80540b",
   "metadata": {},
   "source": [
    "2.3 SQLIte - Intro"
   ]
  },
  {
   "cell_type": "code",
   "execution_count": 5,
   "id": "2c9c50d4-3489-4543-8aad-6d4109ef30ca",
   "metadata": {},
   "outputs": [],
   "source": [
    "import sqlite3\n",
    "\n",
    "# Connect to DB\n",
    "conn = sqlite3.connect('mydata.db')\n",
    "cursor = conn.cursor()\n",
    "\n",
    "# Create table\n",
    "cursor.execute(\"CREATE TABLE IF NOT EXISTS users (name TEXT, age INTEGER)\")\n",
    "\n",
    "# Insert data\n",
    "cursor.execute(\"INSERT INTO users VALUES (?, ?)\", (\"Alice\", 25))\n",
    "conn.commit()\n",
    "\n",
    "# Fetch data\n",
    "cursor.execute(\"SELECT * FROM users\")\n",
    "rows = cursor.fetchall()\n",
    "conn.close()\n"
   ]
  },
  {
   "cell_type": "markdown",
   "id": "a046374b-ec5b-4644-bca0-3fabe364a071",
   "metadata": {},
   "source": [
    "2.4 SQLite - Tkinter GUI"
   ]
  },
  {
   "cell_type": "code",
   "execution_count": null,
   "id": "c876b9b1-78e1-4225-9f99-8d3ab84caf0a",
   "metadata": {},
   "outputs": [],
   "source": [
    "from tkinter import *\n",
    "import sqlite3\n",
    "def save_data():\n",
    "    name = entry.get()\n",
    "    conn = sqlite3.connect('mydata.db')\n",
    "    cursor = conn.cursor()\n",
    "    cursor.execute(\"CREATE TABLE IF NOT EXISTS notes (content TEXT)\")\n",
    "    cursor.execute(\"INSERT INTO notes VALUES (?)\", (name,))\n",
    "    conn.commit()\n",
    "    conn.close()\n",
    "    label.config(text=\"Saved!\")\n",
    "\n",
    "root = Tk()\n",
    "entry = Entry(root)\n",
    "entry.pack()\n",
    "Button(root, text=\"Save\", command=save_data).pack()\n",
    "label = Label(root, text=\"\")\n",
    "label.pack()\n",
    "root.mainloop()\n"
   ]
  },
  {
   "cell_type": "markdown",
   "id": "759a1641-4329-4f42-b962-57381260e8ba",
   "metadata": {},
   "source": [
    "3.1 API - Intro"
   ]
  },
  {
   "cell_type": "code",
   "execution_count": null,
   "id": "a7f76e35-b479-4dc6-a4a2-db15e6a1cc28",
   "metadata": {},
   "outputs": [],
   "source": [
    "import requests\n",
    "response = requests.get('https://api.example.com/data')\n",
    "data = response.json()\n"
   ]
  },
  {
   "cell_type": "markdown",
   "id": "b571ef3b-787b-43ec-9e6c-aa0e764530c0",
   "metadata": {},
   "source": [
    "3.2 API - Weather Integration"
   ]
  },
  {
   "cell_type": "code",
   "execution_count": null,
   "id": "d053468a-9eb9-4846-b749-f4d4ba47c81b",
   "metadata": {},
   "outputs": [],
   "source": [
    "import requests\n",
    "from tkinter import *\n",
    "\n",
    "def get_weather():\n",
    "    city = entry.get()\n",
    "    url = f\"https://api.openweathermap.org/data/2.5/weather?q={city}&appid=37d99f4c8bd8fa96d4509c54c8a262d7&units=metric\"\n",
    "    res = requests.get(url)\n",
    "    weather = res.json()\n",
    "    temp = weather['main']['temp']\n",
    "    label.config(text=f\"{city}: {temp}°C\")\n",
    "\n",
    "root = Tk()\n",
    "entry = Entry(root)\n",
    "entry.pack()\n",
    "Button(root, text=\"Get Weather\", command=get_weather).pack()\n",
    "label = Label(root, text=\"\")\n",
    "label.pack()\n",
    "root.mainloop()\n"
   ]
  },
  {
   "cell_type": "markdown",
   "id": "1ad5f0aa-5461-4a1c-a07c-153e44f75aab",
   "metadata": {},
   "source": [
    "4.1 Packaging and Distributing"
   ]
  },
  {
   "cell_type": "markdown",
   "id": "21c8fe1d-dc94-4304-b25e-11d722c231f9",
   "metadata": {},
   "source": [
    "$ pip install pyinstaller # to install package\n",
    "\n",
    "$ pyinstaller --onefile --windowed app.py\n",
    "\n",
    "Manual:\n",
    "--onefile: Bundle everything into a single executable.\n",
    "--windowed: No command prompt window (for GUI apps).\n",
    "dist/: Output folder with .exe\n"
   ]
  },
  {
   "cell_type": "code",
   "execution_count": null,
   "id": "4985cb2a-7fc6-44fd-b524-34859e23f471",
   "metadata": {},
   "outputs": [],
   "source": []
  }
 ],
 "metadata": {
  "kernelspec": {
   "display_name": "Python [conda env:base] *",
   "language": "python",
   "name": "conda-base-py"
  },
  "language_info": {
   "codemirror_mode": {
    "name": "ipython",
    "version": 3
   },
   "file_extension": ".py",
   "mimetype": "text/x-python",
   "name": "python",
   "nbconvert_exporter": "python",
   "pygments_lexer": "ipython3",
   "version": "3.12.7"
  }
 },
 "nbformat": 4,
 "nbformat_minor": 5
}

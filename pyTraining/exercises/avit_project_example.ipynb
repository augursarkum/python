{
  "nbformat": 4,
  "nbformat_minor": 0,
  "metadata": {
    "colab": {
      "provenance": []
    },
    "kernelspec": {
      "name": "python3",
      "display_name": "Python 3"
    },
    "language_info": {
      "name": "python"
    }
  },
  "cells": [
    {
      "cell_type": "markdown",
      "source": [
        "ATM APP 0.1"
      ],
      "metadata": {
        "id": "3QlhE-4AhZQV"
      }
    },
    {
      "cell_type": "code",
      "execution_count": null,
      "metadata": {
        "id": "8p2G8-B3hS1_",
        "colab": {
          "base_uri": "https://localhost:8080/"
        },
        "outputId": "f4703643-48d2-4a98-d75f-42803da0b4e6"
      },
      "outputs": [
        {
          "output_type": "stream",
          "name": "stdout",
          "text": [
            "\n",
            "ATM APP\n",
            "Version: 0.1\n",
            "Author: KumaraGuru\n",
            "\n",
            "Username: guru\n",
            "Password: 2025@Guru\n",
            "Welcome  Guru\n",
            "\n",
            "    ----------------------------\n",
            "    ATM Operations\n",
            "    1 - View Balance\n",
            "    2 - Deposit\n",
            "    3 - Withdraw\n",
            "    4 - Exit\n",
            "    -----------------------------\n",
            "    \n",
            "Options: 1\n",
            "Your Balance is  1500\n",
            "X-----------------------------X\n",
            "\n",
            "    ----------------------------\n",
            "    ATM Operations\n",
            "    1 - View Balance\n",
            "    2 - Deposit\n",
            "    3 - Withdraw\n",
            "    4 - Exit\n",
            "    -----------------------------\n",
            "    \n"
          ]
        }
      ],
      "source": [
        "username = \"guru\"\n",
        "password = \"2025@Guru\"\n",
        "#balance = 1000\n",
        "status = True\n",
        "\n",
        "ro = open(\"balance.txt\",\"r\")\n",
        "balance = ro.read()\n",
        "ro.close()\n",
        "\n",
        "print(\"\"\"\n",
        "ATM APP\n",
        "Version: 0.1\n",
        "Author: KumaraGuru\n",
        "\"\"\")\n",
        "\n",
        "inputUsername = input(\"Username: \")\n",
        "inputPassword = input(\"Password: \")\n",
        "\n",
        "if(username == inputUsername and password == inputPassword):\n",
        "  print(\"Welcome \", username.title())\n",
        "  while(status):\n",
        "    print(\"\"\"\n",
        "    ----------------------------\n",
        "    ATM Operations\n",
        "    1 - View Balance\n",
        "    2 - Deposit\n",
        "    3 - Withdraw\n",
        "    4 - Exit\n",
        "    -----------------------------\n",
        "    \"\"\")\n",
        "    options = int(input(\"Options: \"))\n",
        "    if(options == 1):\n",
        "      print(\"Your Balance is \", balance)\n",
        "      print(\"X-----------------------------X\")\n",
        "    elif(options == 2):\n",
        "      print(\"Deposit Money\")\n",
        "      amount = int(input(\"Enter the amount to deposit: \"))\n",
        "      balance = int(balance) + amount\n",
        "      wo = open(\"balance.txt\",\"w\")\n",
        "      wo.write(str(balance))\n",
        "      wo.close()\n",
        "      print(\"X-----------------------------X\")\n",
        "    elif(options == 3):\n",
        "      print(\"Withdraw Money\")\n",
        "      amount = int(input(\"Enter the amount to withdraw: \"))\n",
        "      balance = int(balance) - amount\n",
        "      wo = open(\"balance.txt\",\"w\")\n",
        "      wo.write(str(balance))\n",
        "      wo.close()\n",
        "      print(\"X-----------------------------X\")\n",
        "    elif(options == 4):\n",
        "      status = False\n",
        "    else:\n",
        "      print(\"Incorrect option\")\n",
        "else:\n",
        "  print(\"Incorrect\")\n"
      ]
    },
    {
      "cell_type": "code",
      "source": [
        "wo = open(\"file.txt\",\"w\")\n",
        "wo.write(\"Python Rocks\")\n",
        "wo.close()\n",
        "print(\"File created successfully!\")"
      ],
      "metadata": {
        "id": "S95YQPeGo6vs",
        "colab": {
          "base_uri": "https://localhost:8080/"
        },
        "outputId": "ba13e2be-d561-4f2c-9d19-056de32e21ce"
      },
      "execution_count": null,
      "outputs": [
        {
          "output_type": "stream",
          "name": "stdout",
          "text": [
            "File created successfully!\n"
          ]
        }
      ]
    },
    {
      "cell_type": "code",
      "source": [
        "ro = open(\"file.txt\",\"r\")\n",
        "buff = ro.read()\n",
        "print(buff)\n",
        "ro.close()"
      ],
      "metadata": {
        "colab": {
          "base_uri": "https://localhost:8080/"
        },
        "id": "7au7ifmFsmi_",
        "outputId": "bbe2de97-316c-414c-ad03-511d9114d93b"
      },
      "execution_count": null,
      "outputs": [
        {
          "output_type": "stream",
          "name": "stdout",
          "text": [
            "Python Rocks\n"
          ]
        }
      ]
    },
    {
      "cell_type": "code",
      "source": [
        "print(type(balance))"
      ],
      "metadata": {
        "colab": {
          "base_uri": "https://localhost:8080/"
        },
        "id": "gZqgwRFeyJ-y",
        "outputId": "46e82e8f-e03f-42e5-dcc4-07aa514e3bdf"
      },
      "execution_count": null,
      "outputs": [
        {
          "output_type": "stream",
          "name": "stdout",
          "text": [
            "<class 'str'>\n"
          ]
        }
      ]
    },
    {
      "cell_type": "markdown",
      "source": [],
      "metadata": {
        "id": "IbHgTRcmyJwE"
      }
    }
  ]
}